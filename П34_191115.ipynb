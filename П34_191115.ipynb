{
  "metadata": {
    "language_info": {
      "codemirror_mode": {
        "name": "python",
        "version": 3
      },
      "file_extension": ".py",
      "mimetype": "text/x-python",
      "name": "python",
      "nbconvert_exporter": "python",
      "pygments_lexer": "ipython3",
      "version": "3.8"
    },
    "kernelspec": {
      "name": "python",
      "display_name": "Python (Pyodide)",
      "language": "python"
    },
    "colab": {
      "provenance": []
    }
  },
  "nbformat_minor": 0,
  "nbformat": 4,
  "cells": [
    {
      "cell_type": "markdown",
      "source": [
        "# Дроновите како иднината во работата со дистрибуција"
      ],
      "metadata": {
        "id": "YGGnD1fIt-PY"
      }
    },
    {
      "cell_type": "markdown",
      "source": [
        "## Абстракт"
      ],
      "metadata": {
        "id": "JvOWy1M6t-Pb"
      }
    },
    {
      "cell_type": "markdown",
      "source": [
        "<b>Апстракт:</b> Комерцијалните дронови кои што ги користат компаниите за е-трговија се потполно автономни и без екипажни (UAV*), и се користат за испорачување на пакети до својот клиентел. Употребата на автономните дронови постепено ќе го\n",
        "превземе маркетот на\n",
        "е-трговијата што поскоро\n",
        "компаниите ја реализираат нивната интеграција\n",
        "во општеството. Преку\n",
        "истражувачкиот труд ја\n",
        "го наведуваме начинот на\n",
        "кој оперираат дроновите\n",
        "како повеќе-роботски систем (целина), како користат компјутерска визија\n",
        "за маневрирање низ работен простор, и нивниот\n",
        "ефект врз подобрувањето\n",
        "и ефикасноста на дистрибуцијата и испораката на\n",
        "производи.<b>Keywords:</b> UAV*:\n",
        "Unmanned Aerial Vehicle,\n",
        "Без екипажно возило.\n"
      ],
      "metadata": {
        "id": "0waJwXBYt-Pc"
      }
    },
    {
      "cell_type": "markdown",
      "source": [
        "## 1 Вовед\n"
      ],
      "metadata": {
        "id": "JPj9BkPNt-Pd"
      }
    },
    {
      "cell_type": "markdown",
      "source": [
        "Дроновите имаат огромен\n",
        "потенцијал за испорака на карго.Очекуваме испораката на товар со безпилотни летала да стане реалност во секојдневниот живот. Предложената идеја за испорака на безпилотни летала вклучува употреба на вештачка интелигенција за интелигентно рутирање и автономност на дронот, како и апликација која го следи летот на UAV. Заедно со тоа што\n",
        "е доволно интелигентен за брзо\n",
        "и ефикасно да стигне до дестинацијата, дронот врши и скенирање на околината и складирање\n",
        "на состојби во кои се наоѓа и би се\n",
        "наоѓал. Беспилотните летала треба да работат континуирано и во\n",
        "случај на прекумерна употреба,\n",
        "резервните дронови би ги замениле, со што би се овозможила\n",
        "максимална ефективност од временски аспект, односно би се избегнале ситуации што го зголемуваат времето потребно за испорака, како и трошоците за испорака.\n",
        "Брзината на испорака е зголемена на големо ниво, а трошокот за човечка моќ е целосно елиминиран."
      ],
      "metadata": {
        "id": "NQdo_pwBt-Pe"
      }
    },
    {
      "cell_type": "markdown",
      "source": [
        "## 2 Мотив на истражување"
      ],
      "metadata": {
        "id": "6CWo8KWct-Pf"
      }
    },
    {
      "cell_type": "markdown",
      "source": [
        "Еволоцуијата на градовите\n",
        "и сообраќајот и кога секој може да има свој автомобил за да\n",
        "ги врши своите дневни обврски е\n",
        "причина за гужви во сообраќајот.\n",
        "Тие гужви се го отежнуваат процсот на дистрибуција. Го зголемува времето и чекањето на клиентите, а со тоа се зголемуваат и\n",
        "трошоците, задоволството на потрошувачите и тоа директно има\n",
        "импакт и на профитот. Посебно\n",
        "во помалите услужни приватни\n",
        "и државни фирми како што се\n",
        "аптеките, ресторани, пошти, карго, кафичи итн. Летечките објекти, како што е безпилотно летало (UAV) стануваат неопходен\n",
        "предмет што треба да го поседуваат нацијата, компаниите за етрговија и медицинските институции. Мотивот за пишување на\n",
        "овој истражувачки труд се можностите кои ги нудат автономните дронови во секој аспект од општеството, од медицински, до воени цели. Прецизното контролирање на UAV сигурно ќе го револуционизира животот на современиот човек во аспект на нивната\n",
        "огромна примена. Услугата за испорака на безпилотните летала, е\n",
        "една од ветувачките индустрии, а\n",
        "поврзаните технологии се особено\n",
        "предводени од Amazon.com, иако\n",
        "има многу конкуренти ширум светот, вклучувајќи ги DHL Express,\n",
        "UPS Inc., FedEx Corporation, SF\n",
        "Express Co., итн... До сега овие\n",
        "компании за е-трговија склучуваа договори со мултинационални\n",
        "компании за испорака на курирски (транспортни) услуги за испорака на производи од добавувачи на клиенти. Меѓутоа, за да\n",
        "се задоволи постојано растечката желба на клиентите за поевтини, побрзи и попрецизни услуги за испорака, компаниите за етрговија ги заменија едноставните ресурси на работната сила со\n",
        "роботи. На пример, Амазон сега\n",
        "користи околу 45.000 автономни\n",
        "роботи низ 20 центри. Единствената препрека на целосното индустријализирање на автономните безпилотни возила е технолошкиот развој на вештачката интелегенција и употребата на камери\n",
        "за дигитализирање на работната\n",
        "околина и препреките во истата.\n"
      ],
      "metadata": {
        "id": "N4o1KP_dt-Pf"
      }
    },
    {
      "cell_type": "markdown",
      "source": [
        "### 2.1 Методи"
      ],
      "metadata": {
        "id": "9UvGFPpot-Pg"
      }
    },
    {
      "cell_type": "markdown",
      "source": [
        "При пишување на овој истражувачки труд користевме\n",
        "квантитативно, аналитичко истражување со дедуктивна природа,односно преку онлајн пребарување на достапните податоци и\n",
        "статистики за употребата на дроновите во компанијата Amazon,\n",
        "како и преку големиот број достапни статии преку кои ги воочивме мислењата и знаењата на\n",
        "генералната популација."
      ],
      "metadata": {
        "id": "ZzngQU4Yt-Pg"
      }
    },
    {
      "cell_type": "markdown",
      "source": [
        "## 3 Истражувачки прашања и нивно образложение"
      ],
      "metadata": {
        "id": "N0cU8VfTt-Ph"
      }
    },
    {
      "cell_type": "markdown",
      "source": [
        "### 3.1 Како технологијата на автономниот сообраќај надроновите влијае врз економскиот и социјалниотаспект на општеството во 2022?"
      ],
      "metadata": {
        "id": "SwX_BhpOt-Ph"
      }
    },
    {
      "cell_type": "markdown",
      "source": [
        "Купувањето на производи и услуги е подлежно на дополнителни трошоци за испорака и ракување напревени од клиентелот. Гледано од економски аспект, секојдневната комерцијална употреба на дронови драстично ја\n",
        "намалува потрошувачката за \"работна рака\"поради нивната способност за\n",
        "брзо изминување на големи површини."
      ],
      "metadata": {
        "id": "ENwJMEy8t-Pi"
      }
    },
    {
      "cell_type": "markdown",
      "source": [
        "### 3.2 Какво влијание има дистрибуцијата со дроновиврз ефективноста на компанијата Amazon, којa работи со е-трговија?\n"
      ],
      "metadata": {
        "id": "3RxotnIjt-Pi"
      }
    },
    {
      "cell_type": "markdown",
      "source": [
        "Предизвикот на дистрибуција со дронови сеуште не е целосно совладан, но компанијата Amazon направи тест лансирање на својот проект\n",
        "\"Аmazon Prime Air\"во Калифорнија, чиј резултат беше успешен. Наредната цел на проектот е глобално реализирање."
      ],
      "metadata": {
        "id": "bVNCfmUTt-Pj"
      }
    },
    {
      "cell_type": "markdown",
      "source": [
        "### 3.3 Зошто кога ќе порачам храна чекам долго времеза да ми биде храната доставена?"
      ],
      "metadata": {
        "id": "SqoCWHQat-Pj"
      }
    },
    {
      "cell_type": "markdown",
      "source": [
        "Ова прашање е релевантно бидејќи секој ден се прават илјаданици\n",
        "нарачки за храна и потребно е да се чека 1 час за да ми биде доставена\n",
        "храната, иако објектот е во моја близина, а што ако е подалеку? Многу\n",
        "долго се чека за вакви услуги.\n"
      ],
      "metadata": {
        "id": "mbatKbXWt-Pk"
      }
    },
    {
      "cell_type": "markdown",
      "source": [
        "### 3.4 Зошто луѓе умираат поради каснење на брза помош со потребните лекови?"
      ],
      "metadata": {
        "id": "5O65Ih02t-Pk"
      }
    },
    {
      "cell_type": "markdown",
      "source": [
        "Има многу случаи каде ако имало повеќе време некој живот би бил\n",
        "спасен, зошто треба големо комбе да минува низ сообраќај од една единствена точка во градот за достава кога е мал лек во прашање?\n"
      ],
      "metadata": {
        "id": "XntasqMft-Pk"
      }
    },
    {
      "cell_type": "markdown",
      "source": [
        "## 4 Хипотези"
      ],
      "metadata": {
        "id": "wjVDTAgxt-Pl"
      }
    },
    {
      "cell_type": "markdown",
      "source": [
        "### 4.1 Хипотеза за првотопрашање"
      ],
      "metadata": {
        "id": "rfr7Mcq_t-Pl"
      }
    },
    {
      "cell_type": "markdown",
      "source": [
        "Подобноста на светот во\n",
        "кој испорачувањето на производи\n",
        "преку дрон би станало секојдневие, гледана од економски аспект\n",
        "би го подобрила маркетот за производите кои се испорачуваат, како и трошоците за самата \"работна рака\"би биле занемарливи."
      ],
      "metadata": {
        "id": "WvuPnF9jt-Pl"
      }
    },
    {
      "cell_type": "markdown",
      "source": [
        "### 4.2 Хипотеза за второто прашање"
      ],
      "metadata": {
        "id": "yuDJUCsPt-Pl"
      }
    },
    {
      "cell_type": "markdown",
      "source": [
        "Треба да се воочи дека сепак е тешко имплементирањето\n",
        "на проектот Amazon Prime Air."
      ],
      "metadata": {
        "id": "uOxu92FWt-Pm"
      }
    },
    {
      "cell_type": "markdown",
      "source": [
        "### 4.3 Хипотеза за третотопрашање"
      ],
      "metadata": {
        "id": "-Ri-mzPXt-Pm"
      }
    },
    {
      "cell_type": "markdown",
      "source": [
        "• Независна променлива – чекање\n",
        "• Зависна променлива – долга\n",
        "достава\n",
        "• Ако се намали времето на\n",
        "достава на храна, ќе има помалку чекање од страна на\n",
        "нарачателите"
      ],
      "metadata": {
        "id": "YUyVdRtat-Pm"
      }
    },
    {
      "cell_type": "markdown",
      "source": [
        "### 4.4 Хипотеза за четвртото прашање"
      ],
      "metadata": {
        "id": "xW-rIH7Gt-Pm"
      }
    },
    {
      "cell_type": "markdown",
      "source": [
        "• Независна променлива –\n",
        "смрт\n",
        "• Зависна променлива – каснење\n",
        "• Ако се убрза доставата на\n",
        "лекови до луѓето со критична состојба, ќе се намали\n",
        "бројот на мртви поради каснењето на интервенцијата.\n"
      ],
      "metadata": {
        "id": "2KKN_Hc1t-Pn"
      }
    },
    {
      "cell_type": "markdown",
      "source": [
        "## 5 Предлог методологија со тип,опис и план"
      ],
      "metadata": {
        "id": "ijemGT-It-Pn"
      }
    },
    {
      "cell_type": "markdown",
      "source": [
        "Овие истражувања се релевантни затоа што и тие го покриваат делот како со дроновите\n",
        "се олеснува и подобрува дистрибуцијата и како е поефикасно да\n",
        "се користат. Со дроновите се намалуваат емисиите што ги произлегуваат од моторните возила кои\n",
        "се многу застапени во областа на\n",
        "дистрибуција. Освен тоа тука има\n",
        "и прашања околу правните аспекти на дроновите и дали секој би\n",
        "ги прифатил. Сепак тие ја намалуваат приватноста, сепак дроновите имаат и камери кои можат\n",
        "да шпиунираат на луѓето и тие се\n",
        "со право загрижени.\n"
      ],
      "metadata": {
        "id": "qcLx2KWmt-Po"
      }
    },
    {
      "cell_type": "markdown",
      "source": [
        "## 6 Опис на експериментот"
      ],
      "metadata": {
        "id": "ldf28WxYt-Po"
      }
    },
    {
      "cell_type": "markdown",
      "source": [
        "Процесот на испорака со\n",
        "дронови станува с`e попопуларен\n",
        "како што се подобрува технологијата и се намалуваат трошоците за дроновите. Испораката со\n",
        "дронови нуди многу предности во\n",
        "однос на традиционалните методи на испорака. Беспилотните летала можат да покријат голема\n",
        "површина за кратко време и тоа\n",
        "е особено корисно за бизнисите\n",
        "кои треба да извршат многу испораки или да вршат испораки\n",
        "до далечни места. Тука е одговорот до првото прашање, со помош на дроновите може да се избегнат гужвите низ сообраќајот и\n",
        "да се достават испораките преку\n",
        "воздушен пат. За таа цел потребна е друг логистички framework\n",
        "за контролирање на тие дронови\n",
        "и искусни и тренирани луѓе. За\n",
        "тренинг и логистика потребни се\n",
        "ресурси, но и за традиционалниот пристап потребни се ресурси,\n",
        "па тоа не е изговор. Во подолги4\n",
        "от период дроновите ќе се исплатат. За второто прашање решението е слично, со ефтини дронови\n",
        "кои можат да носат лесен товар\n",
        "како што се лековите може да бидат користени од страна на болниците и здравствени домови со\n",
        "цел да бидат достапни за оние на\n",
        "кои им требаат лекови во најбрзо\n",
        "време. На крај се сведува до правните и регуларни пречки, треба\n",
        "државата/градот да одлучи дали\n",
        "е дозволено да се користат такви летала низ градот или не, дали\n",
        "луѓето прифаќаат да биде користена таква техонологија која може да наруши приватност, како\n",
        "и да биде опасност во некои случаи доколку има некакво нефукнционирање и да падне од небо.\n",
        "Според надворешните ресурси водечкиот производител на дронови\n",
        "за широка потрошувачка, DЈI, ја\n",
        "намали цената на својот водечки\n",
        "дрон, Phantom 4, за речиси половина во изминатата година. Како\n",
        "што технологијата на беспилотните летала продолжува да се подобрува и станува се пошироко достапна, цената на беспилотните летала најверојатно ќе продолжи да\n",
        "паѓа. Паѓаат и трошоците за работа и одржување на беспилотни летала. Како што технологијата на\n",
        "дроновите станува пософистицирана, тие стануваат поевтини. Ова\n",
        "води до намалување на вкупните\n",
        "трошоци за дроновите. Цената на\n",
        "осигурувањето е исто така битна.\n",
        "Моментално, трошоците за осигурување на дрон се релативно високи. Тоа е затоа што беспилотните летала се уште се релативно нови. Но во блиската иднина тоа ќе\n",
        "се промени. Автономните дронови/летачки возила работат на ист\n",
        "начин како и што дроновите контролирани преку далечински управувач работат, меѓутоа главната разлика со автономните дронови е компјутерската визија, имено\n",
        "секоје автономно летачко возило\n",
        "преку камери кои што ги исликуваат околните објекти и ги дигитализираат, гироскоп за пресметување на аголна позиција и брзина,\n",
        "соодветни контролери за брзина,\n",
        "актуатор (најчесто на електричен\n",
        "погон) и батерија, акцелометар,\n",
        "перки и тело како и GPS комуникацииски уред кој би враќал дигитален сигнал. Клучната карактеристика која што го одвојува\n",
        "секоје автономно летало од било\n",
        "кое пилотско летало / RC летало\n",
        "е неопходното искористување на\n",
        "вештачка интелигенција при дизајнирањето на софтверот за соодветното коло. 2.Плоча од гироскопски сензор 1.Ардуино плоча која го користи ArduPilot системот Главно софтверската архитектура кај автономните летала\n",
        "би можела да биде или open-loop\n",
        "или closed-loop во зависност од голем број околински фактори, како надморската височина на летачката патека, дали има објекти\n",
        "и пречки во околината, дали е динамичка и променлива или “затворен” воздушен простор. Вештачката интелигенција има голем замав и голема улога при дизајнирањето на софтверот кај роботските дронови кои оперираат во\n",
        "динамичка средина, како на пример дрон кој што би летал во град\n",
        "на ниска надморска височина треба да користи голем број сензори\n",
        "за постојано да ја восприема надворешната околина, да ја апдејтира состојбата соодветно на секоја\n",
        "5\n",
        "пречка, положба, момент, внатрешните поставувања, како и соодветно да зема акција врз основа\n",
        "на таа состојба. Исто така покомплексна операција би била дизајнирањето на повеќе-роботски летачки системи кои меѓусебно треба да комуницираат. Автономниот\n",
        "дрон може да се сетира на специфична летачка патека, маркирано место или хелиодром за слетување и полетување. Во случај да\n",
        "се работи за едно-роботски систем\n",
        "процесот на скенирање, перцепирање и актуирање воопшто не би\n",
        "изгледал комплексен. Нема потреба од детално скелетонизирање,\n",
        "графичко или дигитално исцртување или креирање на граф за секоја околина и надворежна состојба по применување на движење\n",
        "како кај копнени подвижни роботски системи. Меѓутоа при програмирање и градење на автономско роботско летало мора да бидат земени во предвид голем број\n",
        "променливи, како брзина и силина на ветер, брзина на придвижување на перки (мотор за еднонасочна струја), вредностите кои ги\n",
        "враќаат сензорите како акцелеметарот и гироскопскиот сензор за\n",
        "да не се случи роботското возило\n",
        "да се заглави или преврте, и доколку се случи ова мора да бидат\n",
        "Слика 1: Чип од гироскопски\n",
        "сензор\n",
        "испрограмирани\n",
        "соодветни\n",
        "инструкции\n",
        "за\n",
        "дадената состојба со цел роботот да се\n",
        "справи со тоа. Исто така голема\n",
        "проблематика при дизајнирање на\n",
        "роботско летало е справување со\n",
        "максималната брзината на придвижување (летање), забрзувањето на леталото, кои мора да бидат предефинирани врз основа на\n",
        "материјалот од кои се изградени\n",
        "перките како и телото на возилото, брзината на ротирање на перките, аеро-динамиката на леталото итн. Повеќето UAV кои ги користат компаниите за е-трговија,\n",
        "вклучително и Amazon Prime Air,\n",
        "полетуваат и слетуваат вертикално (VTOL) и се категоризираат\n",
        "како UAV со мала големина според Табела 1.(AGL: над нивото\n",
        "на земјата; MSL: средно ниво на\n",
        "морето). UAV со мала големина е\n",
        "оптимална големина за испорака\n",
        "на пакет со тежина од околу 2,3\n",
        "kg.\n"
      ],
      "metadata": {
        "id": "ti3a2ewot-Pp"
      }
    },
    {
      "cell_type": "markdown",
      "source": [
        "<img src=\"images/chip.jpg\" width=\"200\" height=\"200\" />"
      ],
      "metadata": {
        "id": "BNWqHBfSt-Pr"
      }
    },
    {
      "cell_type": "code",
      "source": [
        "import numpy as np\n",
        "import matplotlib.pyplot as plt\n",
        "x_tw=[1,2,3,4]\n",
        "y_tw=[9.4, 24.9, 598.7, 721.2]\n",
        "tick_labels_tw=['Small, <185.2', 'Medium, <463','Large, <463','Large, <698.1']\n",
        "plt.bar(x_tw,y_tw,tick_label=tick_labels_tw,width=0.7)\n",
        "plt.xlabel('Size of aircraft, Speed in kph')\n",
        "plt.ylabel('Max. Gross Takeoff Weight in kg')\n",
        "plt.title('Takeoff Weight Graph')\n",
        "plt.show()"
      ],
      "metadata": {
        "trusted": true,
        "id": "XLiL0KHyt-Ps",
        "outputId": "e25dbe4f-2417-458a-d89b-507332227c71"
      },
      "execution_count": null,
      "outputs": [
        {
          "output_type": "display_data",
          "data": {
            "text/plain": "<Figure size 640x480 with 1 Axes>",
            "image/png": "[encoded data removed]"
          },
          "metadata": {}
        }
      ]
    },
    {
      "cell_type": "code",
      "source": [
        "x_no=[1,2,3,4]\n",
        "y_no=[544.3, 1587.6, 8164.7, 9652.11]\n",
        "tick_labels_no=['Small, <185.2', 'Medium, <463','Large, <463','Large, <698.1']\n",
        "plt.bar(x_no,y_no,tick_label=tick_labels_no,width=0.7)\n",
        "plt.xlabel('Size of aircraft, Speed in kph')\n",
        "plt.ylabel('Normal Operating Altitude in km')\n",
        "plt.title('Operating Altitude Graph')\n",
        "plt.show()\n",
        "\n"
      ],
      "metadata": {
        "trusted": true,
        "id": "H2hSEnN6t-Pu",
        "outputId": "01f53edb-8731-4dc6-affb-c92ac3e83fb9"
      },
      "execution_count": null,
      "outputs": [
        {
          "output_type": "display_data",
          "data": {
            "text/plain": "<Figure size 640x480 with 1 Axes>",
            "image/png": "[encoded data removed]"
          },
          "metadata": {}
        }
      ]
    },
    {
      "cell_type": "markdown",
      "source": [
        "### 6.1 Резултати"
      ],
      "metadata": {
        "id": "1nF2M6urt-Pu"
      }
    },
    {
      "cell_type": "markdown",
      "source": [
        "Преку овој истражувачки\n",
        "труд го опфативме начинот на\n",
        "кој функционираат автономните\n",
        "безекипажни дронови, каков вид\n",
        "на сензори и актуатори користат\n",
        "за извршување на маневри, како\n",
        "што се вертикалното полетување\n",
        "и слетување со помош на хелихоптерски перки. Исто така ги воочивме предностите на ефикасноста и ефективноста при користење\n",
        "на вакви дронови во сферите на\n",
        "општеството.\n"
      ],
      "metadata": {
        "id": "kkdws3qEt-Pv"
      }
    },
    {
      "cell_type": "markdown",
      "source": [
        "### 6.2 Искористен код за \"bar\" графиците:\n",
        "    import numpy as np\n",
        "    import matplotlib.pyplot as plt\n",
        "    x_tw=[1,2,3,4]\n",
        "    y_tw=[9.4, 24.9, 598.7, 721.2]\n",
        "    tick_labels_tw=['Small, <185.2', 'Medium, <463','Large, <463','Large, <698.1']\n",
        "    plt.bar(x_tw,y_tw,tick_label=tick_labels_tw,width=0.7)\n",
        "    plt.xlabel('Size of aircraft, Speed in kph')\n",
        "    plt.ylabel('Max. Gross Takeoff Weight in kg')\n",
        "    plt.title('Takeoff Weight Graph')\n",
        "    plt.show()\n",
        "    x_no=[1,2,3,4]\n",
        "    y_no=[544.3, 1587.6, 8164.7, 9652.11]\n",
        "    tick_labels_no=['Small, <185.2', 'Medium, <463','Large, <463','Large, <698.1']\n",
        "    plt.bar(x_no,y_no,tick_label=tick_labels_no,width=0.7)\n",
        "    plt.xlabel('Size of aircraft, Speed in kph')\n",
        "    plt.ylabel('Normal Operating Altitude in km')\n",
        "    plt.title('Operating Altitude Graph')\n",
        "    plt.show()"
      ],
      "metadata": {
        "id": "Vm8Hnkg5t-Pv"
      }
    },
    {
      "cell_type": "markdown",
      "source": [
        "## 7 Дополнителна користена литература:\n"
      ],
      "metadata": {
        "id": "9x8rCCT4t-Pw"
      }
    },
    {
      "cell_type": "markdown",
      "source": [
        "• https://www.researchgate.net/publication/342120505_Autonomous_Landing_of_a_Dr\n",
        "one_Using_Smart_Vision - истражувачка статија за дронот “AR Drone\n",
        "2.0” од одделот за компјутерски науки на универзитетот во Мичиген\n",
        "Статии:\n",
        "• https://www.aboutamazon.com/news/transportation/amazon-prime-air-preparesfor-drone-deliveries\n",
        "• https://www.investopedia.com/articles/investing/010615/how-drones-arechanging-business-world.asp"
      ],
      "metadata": {
        "id": "XP1gx3EQt-Pw"
      }
    },
    {
      "cell_type": "markdown",
      "source": [
        "## 8 Листа на трудови од областа со слични илиисти истражувачки прашања со објаснувања"
      ],
      "metadata": {
        "id": "ioVTqx2Ot-Px"
      }
    },
    {
      "cell_type": "markdown",
      "source": [
        "• https://www.sciencedirect.com/science/article/pii/S2351978920305928\n",
        "• https://etrr.springeropen.com/articles/10.1186/s12544-019-0368-2\n",
        "• https://www.mckinsey.com/industries/aerospace-and-defense/our-insights/futureair-mobility-blog/drone-delivery-more-lift-than-you-think\n",
        "• https://www.researchgate.net/publication/317389269_Analysis_of_Amazon_Prime_Air_UAV\n",
        "_Delivery_Service\n",
        "• https://www.researchgate.net/publication/352178855_Drone_Delivery-Application_and_Path_\n",
        "Optimization\n"
      ],
      "metadata": {
        "id": "dFh4gLFVt-Py"
      }
    }
  ]
}