{
  "nbformat": 4,
  "nbformat_minor": 0,
  "metadata": {
    "colab": {
      "provenance": []
    },
    "kernelspec": {
      "name": "python3",
      "display_name": "Python 3"
    },
    "language_info": {
      "name": "python"
    }
  },
  "cells": [
    {
      "cell_type": "markdown",
      "source": [
        "# Titanic - Machine Learning from Disaster"
      ],
      "metadata": {
        "id": "iwcbwJ_c-a0O"
      }
    },
    {
      "cell_type": "markdown",
      "source": [
        "Download the ***only the training set*** from following link https://www.kaggle.com/competitions/titanic/data\n",
        "\n",
        "Divide the training set into train and test later when needed\n"
      ],
      "metadata": {
        "id": "kcYKl3rd7XwP"
      }
    },
    {
      "cell_type": "markdown",
      "source": [
        "Data Description:\n",
        "\n",
        "survival\tSurvival\t0 = No, 1 = Yes\n",
        "\n",
        "pclass\tTicket class\t1 = 1st, 2 = 2nd, 3 = 3rd\n",
        "\n",
        "sex\tSex\n",
        "\n",
        "Age\tAge in years\n",
        "\n",
        "sibsp\t# of siblings / spouses aboard the Titanic\n",
        "\n",
        "parch\t# of parents / children aboard the Titanic\n",
        "\n",
        "ticket\tTicket number\n",
        "\n",
        "fare\tPassenger fare\n",
        "\n",
        "cabin\tCabin number\n",
        "\n",
        "embarked\tPort of Embarkation\tC = Cherbourg, Q = Queenstown, S = Southampton\n",
        "\n",
        "\n",
        "**Use NN to create three models that predicts which passengers survived the Titanic shipwreck**"
      ],
      "metadata": {
        "id": "V4hIKM3t9smd"
      }
    },
    {
      "cell_type": "markdown",
      "source": [
        "### Data pre-processing\n",
        "\n"
      ],
      "metadata": {
        "id": "B4W7wABR_tUU"
      }
    },
    {
      "cell_type": "code",
      "source": [
        "!gdown 1XmXkKC02f0c3uXVm3aPJRfcfn2MAuoT3\n",
        "\n",
        "import pandas as pd\n",
        "from sklearn.preprocessing import LabelEncoder\n",
        "from sklearn.impute import SimpleImputer\n",
        "from sklearn.model_selection import train_test_split, GridSearchCV\n",
        "from sklearn.preprocessing import StandardScaler\n",
        "from sklearn.neural_network import MLPClassifier\n",
        "from sklearn.metrics import accuracy_score\n",
        "from tensorflow.keras.models import Sequential\n",
        "from tensorflow.keras.layers import Dense\n",
        "\n",
        "df_train = pd.read_csv(\"/content/train.csv\")\n",
        "print(df_train.head())\n",
        "df_train = pd.DataFrame(df_train)\n",
        "df_copy=df_train.copy()\n",
        "\n",
        "perc_isnull=df_copy.isnull().sum() / len(df_copy) * 100\n",
        "print(perc_isnull)\n",
        "\n",
        "label_encoder = LabelEncoder()\n",
        "df_copy['Sex'] = label_encoder.fit_transform(df_copy['Sex'])\n",
        "df_copy['Embarked'] = label_encoder.fit_transform(df_copy['Embarked'])\n",
        "\n",
        "df_copy['Age'].fillna(df_copy['Age'].median(), inplace=True)\n",
        "df_copy['Cabin'].fillna('Unknown', inplace=True)\n",
        "df_copy['Embarked'].fillna(df_copy['Embarked'].mode()[0], inplace=True)\n",
        "df_copy.isnull().sum()\n"
      ],
      "metadata": {
        "id": "K6FEkmWz-R29",
        "colab": {
          "base_uri": "https://localhost:8080/"
        },
        "outputId": "0db48d76-20ed-4d9f-cb7e-fdbe567a565c"
      },
      "execution_count": null,
      "outputs": [
        {
          "output_type": "stream",
          "name": "stdout",
          "text": [
            "Downloading...\n",
            "From: https://drive.google.com/uc?id=1XmXkKC02f0c3uXVm3aPJRfcfn2MAuoT3\n",
            "To: /content/train.csv\n",
            "\r  0% 0.00/61.2k [00:00<?, ?B/s]\r100% 61.2k/61.2k [00:00<00:00, 84.5MB/s]\n",
            "   PassengerId  Survived  Pclass  \\\n",
            "0            1         0       3   \n",
            "1            2         1       1   \n",
            "2            3         1       3   \n",
            "3            4         1       1   \n",
            "4            5         0       3   \n",
            "\n",
            "                                                Name     Sex   Age  SibSp  \\\n",
            "0                            Braund, Mr. Owen Harris    male  22.0      1   \n",
            "1  Cumings, Mrs. John Bradley (Florence Briggs Th...  female  38.0      1   \n",
            "2                             Heikkinen, Miss. Laina  female  26.0      0   \n",
            "3       Futrelle, Mrs. Jacques Heath (Lily May Peel)  female  35.0      1   \n",
            "4                           Allen, Mr. William Henry    male  35.0      0   \n",
            "\n",
            "   Parch            Ticket     Fare Cabin Embarked  \n",
            "0      0         A/5 21171   7.2500   NaN        S  \n",
            "1      0          PC 17599  71.2833   C85        C  \n",
            "2      0  STON/O2. 3101282   7.9250   NaN        S  \n",
            "3      0            113803  53.1000  C123        S  \n",
            "4      0            373450   8.0500   NaN        S  \n",
            "PassengerId     0.000000\n",
            "Survived        0.000000\n",
            "Pclass          0.000000\n",
            "Name            0.000000\n",
            "Sex             0.000000\n",
            "Age            19.865320\n",
            "SibSp           0.000000\n",
            "Parch           0.000000\n",
            "Ticket          0.000000\n",
            "Fare            0.000000\n",
            "Cabin          77.104377\n",
            "Embarked        0.224467\n",
            "dtype: float64\n"
          ]
        },
        {
          "output_type": "execute_result",
          "data": {
            "text/plain": [
              "PassengerId    0\n",
              "Survived       0\n",
              "Pclass         0\n",
              "Name           0\n",
              "Sex            0\n",
              "Age            0\n",
              "SibSp          0\n",
              "Parch          0\n",
              "Ticket         0\n",
              "Fare           0\n",
              "Cabin          0\n",
              "Embarked       0\n",
              "dtype: int64"
            ]
          },
          "metadata": {},
          "execution_count": 70
        }
      ]
    },
    {
      "cell_type": "markdown",
      "source": [
        "###Feature engineering\n",
        "\n",
        "Feature engineering, in data science, refers to manipulation — addition, deletion, combination, mutation — of your data set to improve machine learning model training, leading to better performance and greater accuracy.\n",
        "\n",
        "From the columns that denote the number of sibilings and number of parents **define a new column isAlone** which shows if the passenger has relatives on the boat. The column should contain 0s and 1s.\n",
        "\n",
        "Additionally change the **age column** such that the passengers are divided in five age groups: 0 for age<=16, 1 for 16<age<=32, 2 for 32<age<=48, 3 for 48<age<=64 and 4 for age>64.\n",
        "\n",
        "Hint: Drop the columns for the number of sibilings and parents"
      ],
      "metadata": {
        "id": "k8ydu5TiAhth"
      }
    },
    {
      "cell_type": "code",
      "source": [
        "df_copy['isAlone'] = (df_copy['SibSp'] + df_copy['Parch']).apply(lambda x: 1 if x == 0 else 0)\n",
        "df_copy = df_copy.drop(['SibSp', 'Parch'], axis=1)\n",
        "\n",
        "bins = [0, 16, 32, 48, 64, float('inf')]\n",
        "labels = [0, 1, 2, 3, 4]\n",
        "df_copy['AgeGroup'] = pd.cut(df_copy['Age'], bins=bins, labels=labels, include_lowest=True)\n",
        "df_copy = df_copy.drop('Age', axis=1)\n",
        "\n",
        "train_set, test_set = train_test_split(df_copy, test_size=0.2, random_state=42)\n",
        "df_copy.head()"
      ],
      "metadata": {
        "id": "YEqD8e5NAgwC",
        "colab": {
          "base_uri": "https://localhost:8080/",
          "height": 206
        },
        "outputId": "3c40fd0a-5eea-419f-fac9-872252be86ef"
      },
      "execution_count": null,
      "outputs": [
        {
          "output_type": "execute_result",
          "data": {
            "text/plain": [
              "   PassengerId  Survived  Pclass  \\\n",
              "0            1         0       3   \n",
              "1            2         1       1   \n",
              "2            3         1       3   \n",
              "3            4         1       1   \n",
              "4            5         0       3   \n",
              "\n",
              "                                                Name  Sex            Ticket  \\\n",
              "0                            Braund, Mr. Owen Harris    1         A/5 21171   \n",
              "1  Cumings, Mrs. John Bradley (Florence Briggs Th...    0          PC 17599   \n",
              "2                             Heikkinen, Miss. Laina    0  STON/O2. 3101282   \n",
              "3       Futrelle, Mrs. Jacques Heath (Lily May Peel)    0            113803   \n",
              "4                           Allen, Mr. William Henry    1            373450   \n",
              "\n",
              "      Fare    Cabin  Embarked  isAlone AgeGroup  \n",
              "0   7.2500  Unknown         2        0        1  \n",
              "1  71.2833      C85         0        0        2  \n",
              "2   7.9250  Unknown         2        1        1  \n",
              "3  53.1000     C123         2        0        2  \n",
              "4   8.0500  Unknown         2        1        2  "
            ],
            "text/html": [
              "\n",
              "  <div id=\"df-0556338a-51ce-4b04-8db3-03ed399fb4f0\" class=\"colab-df-container\">\n",
              "    <div>\n",
              "<style scoped>\n",
              "    .dataframe tbody tr th:only-of-type {\n",
              "        vertical-align: middle;\n",
              "    }\n",
              "\n",
              "    .dataframe tbody tr th {\n",
              "        vertical-align: top;\n",
              "    }\n",
              "\n",
              "    .dataframe thead th {\n",
              "        text-align: right;\n",
              "    }\n",
              "</style>\n",
              "<table border=\"1\" class=\"dataframe\">\n",
              "  <thead>\n",
              "    <tr style=\"text-align: right;\">\n",
              "      <th></th>\n",
              "      <th>PassengerId</th>\n",
              "      <th>Survived</th>\n",
              "      <th>Pclass</th>\n",
              "      <th>Name</th>\n",
              "      <th>Sex</th>\n",
              "      <th>Ticket</th>\n",
              "      <th>Fare</th>\n",
              "      <th>Cabin</th>\n",
              "      <th>Embarked</th>\n",
              "      <th>isAlone</th>\n",
              "      <th>AgeGroup</th>\n",
              "    </tr>\n",
              "  </thead>\n",
              "  <tbody>\n",
              "    <tr>\n",
              "      <th>0</th>\n",
              "      <td>1</td>\n",
              "      <td>0</td>\n",
              "      <td>3</td>\n",
              "      <td>Braund, Mr. Owen Harris</td>\n",
              "      <td>1</td>\n",
              "      <td>A/5 21171</td>\n",
              "      <td>7.2500</td>\n",
              "      <td>Unknown</td>\n",
              "      <td>2</td>\n",
              "      <td>0</td>\n",
              "      <td>1</td>\n",
              "    </tr>\n",
              "    <tr>\n",
              "      <th>1</th>\n",
              "      <td>2</td>\n",
              "      <td>1</td>\n",
              "      <td>1</td>\n",
              "      <td>Cumings, Mrs. John Bradley (Florence Briggs Th...</td>\n",
              "      <td>0</td>\n",
              "      <td>PC 17599</td>\n",
              "      <td>71.2833</td>\n",
              "      <td>C85</td>\n",
              "      <td>0</td>\n",
              "      <td>0</td>\n",
              "      <td>2</td>\n",
              "    </tr>\n",
              "    <tr>\n",
              "      <th>2</th>\n",
              "      <td>3</td>\n",
              "      <td>1</td>\n",
              "      <td>3</td>\n",
              "      <td>Heikkinen, Miss. Laina</td>\n",
              "      <td>0</td>\n",
              "      <td>STON/O2. 3101282</td>\n",
              "      <td>7.9250</td>\n",
              "      <td>Unknown</td>\n",
              "      <td>2</td>\n",
              "      <td>1</td>\n",
              "      <td>1</td>\n",
              "    </tr>\n",
              "    <tr>\n",
              "      <th>3</th>\n",
              "      <td>4</td>\n",
              "      <td>1</td>\n",
              "      <td>1</td>\n",
              "      <td>Futrelle, Mrs. Jacques Heath (Lily May Peel)</td>\n",
              "      <td>0</td>\n",
              "      <td>113803</td>\n",
              "      <td>53.1000</td>\n",
              "      <td>C123</td>\n",
              "      <td>2</td>\n",
              "      <td>0</td>\n",
              "      <td>2</td>\n",
              "    </tr>\n",
              "    <tr>\n",
              "      <th>4</th>\n",
              "      <td>5</td>\n",
              "      <td>0</td>\n",
              "      <td>3</td>\n",
              "      <td>Allen, Mr. William Henry</td>\n",
              "      <td>1</td>\n",
              "      <td>373450</td>\n",
              "      <td>8.0500</td>\n",
              "      <td>Unknown</td>\n",
              "      <td>2</td>\n",
              "      <td>1</td>\n",
              "      <td>2</td>\n",
              "    </tr>\n",
              "  </tbody>\n",
              "</table>\n",
              "</div>\n",
              "    <div class=\"colab-df-buttons\">\n",
              "\n",
              "  <div class=\"colab-df-container\">\n",
              "    <button class=\"colab-df-convert\" onclick=\"convertToInteractive('df-0556338a-51ce-4b04-8db3-03ed399fb4f0')\"\n",
              "            title=\"Convert this dataframe to an interactive table.\"\n",
              "            style=\"display:none;\">\n",
              "\n",
              "  <svg xmlns=\"http://www.w3.org/2000/svg\" height=\"24px\" viewBox=\"0 -960 960 960\">\n",
              "    <path d=\"M120-120v-720h720v720H120Zm60-500h600v-160H180v160Zm220 220h160v-160H400v160Zm0 220h160v-160H400v160ZM180-400h160v-160H180v160Zm440 0h160v-160H620v160ZM180-180h160v-160H180v160Zm440 0h160v-160H620v160Z\"/>\n",
              "  </svg>\n",
              "    </button>\n",
              "\n",
              "  <style>\n",
              "    .colab-df-container {\n",
              "      display:flex;\n",
              "      gap: 12px;\n",
              "    }\n",
              "\n",
              "    .colab-df-convert {\n",
              "      background-color: #E8F0FE;\n",
              "      border: none;\n",
              "      border-radius: 50%;\n",
              "      cursor: pointer;\n",
              "      display: none;\n",
              "      fill: #1967D2;\n",
              "      height: 32px;\n",
              "      padding: 0 0 0 0;\n",
              "      width: 32px;\n",
              "    }\n",
              "\n",
              "    .colab-df-convert:hover {\n",
              "      background-color: #E2EBFA;\n",
              "      box-shadow: 0px 1px 2px rgba(60, 64, 67, 0.3), 0px 1px 3px 1px rgba(60, 64, 67, 0.15);\n",
              "      fill: #174EA6;\n",
              "    }\n",
              "\n",
              "    .colab-df-buttons div {\n",
              "      margin-bottom: 4px;\n",
              "    }\n",
              "\n",
              "    [theme=dark] .colab-df-convert {\n",
              "      background-color: #3B4455;\n",
              "      fill: #D2E3FC;\n",
              "    }\n",
              "\n",
              "    [theme=dark] .colab-df-convert:hover {\n",
              "      background-color: #434B5C;\n",
              "      box-shadow: 0px 1px 3px 1px rgba(0, 0, 0, 0.15);\n",
              "      filter: drop-shadow(0px 1px 2px rgba(0, 0, 0, 0.3));\n",
              "      fill: #FFFFFF;\n",
              "    }\n",
              "  </style>\n",
              "\n",
              "    <script>\n",
              "      const buttonEl =\n",
              "        document.querySelector('#df-0556338a-51ce-4b04-8db3-03ed399fb4f0 button.colab-df-convert');\n",
              "      buttonEl.style.display =\n",
              "        google.colab.kernel.accessAllowed ? 'block' : 'none';\n",
              "\n",
              "      async function convertToInteractive(key) {\n",
              "        const element = document.querySelector('#df-0556338a-51ce-4b04-8db3-03ed399fb4f0');\n",
              "        const dataTable =\n",
              "          await google.colab.kernel.invokeFunction('convertToInteractive',\n",
              "                                                    [key], {});\n",
              "        if (!dataTable) return;\n",
              "\n",
              "        const docLinkHtml = 'Like what you see? Visit the ' +\n",
              "          '<a target=\"_blank\" href=https://colab.research.google.com/notebooks/data_table.ipynb>data table notebook</a>'\n",
              "          + ' to learn more about interactive tables.';\n",
              "        element.innerHTML = '';\n",
              "        dataTable['output_type'] = 'display_data';\n",
              "        await google.colab.output.renderOutput(dataTable, element);\n",
              "        const docLink = document.createElement('div');\n",
              "        docLink.innerHTML = docLinkHtml;\n",
              "        element.appendChild(docLink);\n",
              "      }\n",
              "    </script>\n",
              "  </div>\n",
              "\n",
              "\n",
              "<div id=\"df-0e939130-da6e-4878-9fb7-277432438f4a\">\n",
              "  <button class=\"colab-df-quickchart\" onclick=\"quickchart('df-0e939130-da6e-4878-9fb7-277432438f4a')\"\n",
              "            title=\"Suggest charts\"\n",
              "            style=\"display:none;\">\n",
              "\n",
              "<svg xmlns=\"http://www.w3.org/2000/svg\" height=\"24px\"viewBox=\"0 0 24 24\"\n",
              "     width=\"24px\">\n",
              "    <g>\n",
              "        <path d=\"M19 3H5c-1.1 0-2 .9-2 2v14c0 1.1.9 2 2 2h14c1.1 0 2-.9 2-2V5c0-1.1-.9-2-2-2zM9 17H7v-7h2v7zm4 0h-2V7h2v10zm4 0h-2v-4h2v4z\"/>\n",
              "    </g>\n",
              "</svg>\n",
              "  </button>\n",
              "\n",
              "<style>\n",
              "  .colab-df-quickchart {\n",
              "      --bg-color: #E8F0FE;\n",
              "      --fill-color: #1967D2;\n",
              "      --hover-bg-color: #E2EBFA;\n",
              "      --hover-fill-color: #174EA6;\n",
              "      --disabled-fill-color: #AAA;\n",
              "      --disabled-bg-color: #DDD;\n",
              "  }\n",
              "\n",
              "  [theme=dark] .colab-df-quickchart {\n",
              "      --bg-color: #3B4455;\n",
              "      --fill-color: #D2E3FC;\n",
              "      --hover-bg-color: #434B5C;\n",
              "      --hover-fill-color: #FFFFFF;\n",
              "      --disabled-bg-color: #3B4455;\n",
              "      --disabled-fill-color: #666;\n",
              "  }\n",
              "\n",
              "  .colab-df-quickchart {\n",
              "    background-color: var(--bg-color);\n",
              "    border: none;\n",
              "    border-radius: 50%;\n",
              "    cursor: pointer;\n",
              "    display: none;\n",
              "    fill: var(--fill-color);\n",
              "    height: 32px;\n",
              "    padding: 0;\n",
              "    width: 32px;\n",
              "  }\n",
              "\n",
              "  .colab-df-quickchart:hover {\n",
              "    background-color: var(--hover-bg-color);\n",
              "    box-shadow: 0 1px 2px rgba(60, 64, 67, 0.3), 0 1px 3px 1px rgba(60, 64, 67, 0.15);\n",
              "    fill: var(--button-hover-fill-color);\n",
              "  }\n",
              "\n",
              "  .colab-df-quickchart-complete:disabled,\n",
              "  .colab-df-quickchart-complete:disabled:hover {\n",
              "    background-color: var(--disabled-bg-color);\n",
              "    fill: var(--disabled-fill-color);\n",
              "    box-shadow: none;\n",
              "  }\n",
              "\n",
              "  .colab-df-spinner {\n",
              "    border: 2px solid var(--fill-color);\n",
              "    border-color: transparent;\n",
              "    border-bottom-color: var(--fill-color);\n",
              "    animation:\n",
              "      spin 1s steps(1) infinite;\n",
              "  }\n",
              "\n",
              "  @keyframes spin {\n",
              "    0% {\n",
              "      border-color: transparent;\n",
              "      border-bottom-color: var(--fill-color);\n",
              "      border-left-color: var(--fill-color);\n",
              "    }\n",
              "    20% {\n",
              "      border-color: transparent;\n",
              "      border-left-color: var(--fill-color);\n",
              "      border-top-color: var(--fill-color);\n",
              "    }\n",
              "    30% {\n",
              "      border-color: transparent;\n",
              "      border-left-color: var(--fill-color);\n",
              "      border-top-color: var(--fill-color);\n",
              "      border-right-color: var(--fill-color);\n",
              "    }\n",
              "    40% {\n",
              "      border-color: transparent;\n",
              "      border-right-color: var(--fill-color);\n",
              "      border-top-color: var(--fill-color);\n",
              "    }\n",
              "    60% {\n",
              "      border-color: transparent;\n",
              "      border-right-color: var(--fill-color);\n",
              "    }\n",
              "    80% {\n",
              "      border-color: transparent;\n",
              "      border-right-color: var(--fill-color);\n",
              "      border-bottom-color: var(--fill-color);\n",
              "    }\n",
              "    90% {\n",
              "      border-color: transparent;\n",
              "      border-bottom-color: var(--fill-color);\n",
              "    }\n",
              "  }\n",
              "</style>\n",
              "\n",
              "  <script>\n",
              "    async function quickchart(key) {\n",
              "      const quickchartButtonEl =\n",
              "        document.querySelector('#' + key + ' button');\n",
              "      quickchartButtonEl.disabled = true;  // To prevent multiple clicks.\n",
              "      quickchartButtonEl.classList.add('colab-df-spinner');\n",
              "      try {\n",
              "        const charts = await google.colab.kernel.invokeFunction(\n",
              "            'suggestCharts', [key], {});\n",
              "      } catch (error) {\n",
              "        console.error('Error during call to suggestCharts:', error);\n",
              "      }\n",
              "      quickchartButtonEl.classList.remove('colab-df-spinner');\n",
              "      quickchartButtonEl.classList.add('colab-df-quickchart-complete');\n",
              "    }\n",
              "    (() => {\n",
              "      let quickchartButtonEl =\n",
              "        document.querySelector('#df-0e939130-da6e-4878-9fb7-277432438f4a button');\n",
              "      quickchartButtonEl.style.display =\n",
              "        google.colab.kernel.accessAllowed ? 'block' : 'none';\n",
              "    })();\n",
              "  </script>\n",
              "</div>\n",
              "    </div>\n",
              "  </div>\n"
            ]
          },
          "metadata": {},
          "execution_count": 71
        }
      ]
    },
    {
      "cell_type": "markdown",
      "source": [
        "### Neural Network 1"
      ],
      "metadata": {
        "id": "Db-cqX_J_zpB"
      }
    },
    {
      "cell_type": "code",
      "source": [
        "X_train = train_set.drop('Survived', axis=1)\n",
        "Y_train = train_set['Survived']\n",
        "\n",
        "X_test = test_set.drop('Survived', axis=1)\n",
        "Y_test = test_set['Survived']\n",
        "\n",
        "scaler = StandardScaler()\n",
        "X_train_scaled = scaler.fit_transform(X_train.select_dtypes(include=['int64', 'float64']))\n",
        "X_test_scaled = scaler.transform(X_test.select_dtypes(include=['int64', 'float64']))\n",
        "#nn1 = MLPClassifier(random_state=42)\n",
        "model_1 = Sequential()\n",
        "model_1.add(Dense(64, input_dim=X_train_scaled.shape[1], activation='relu'))\n",
        "model_1.add(Dense(32, activation='relu'))\n",
        "model_1.add(Dense(1, activation='sigmoid'))"
      ],
      "metadata": {
        "id": "EQ7w-aZR_s3x"
      },
      "execution_count": null,
      "outputs": []
    },
    {
      "cell_type": "markdown",
      "source": [
        "#### Optimize number of epochs and batch size for NN1\n",
        "\n",
        "(Try different values for the epochs and batch size parameters and choose the optimal ones)\n",
        "\n",
        "Hint: You can use exhaustive search over specified parameter values for an estimator.\n",
        "\n",
        "https://scikit-learn.org/stable/modules/generated/sklearn.model_selection.GridSearchCV.html\n",
        "\n",
        "You will need a wrapper class for your neural network models\n",
        "\n",
        "https://adriangb.com/scikeras/stable/generated/scikeras.wrappers.KerasClassifier.html"
      ],
      "metadata": {
        "id": "AbnTaiZH_4oY"
      }
    },
    {
      "cell_type": "code",
      "source": [
        "\"\"\"param_grid = {\n",
        "    'hidden_layer_sizes': [(50,), (50, 25), (100, 50, 25)],\n",
        "    'max_iter': [500, 1000, 1500],\n",
        "    'batch_size': [32, 64, 128],\n",
        "}\n",
        "grid_search_nn1 = GridSearchCV(nn1, param_grid, cv=5, scoring='accuracy')\n",
        "grid_search_nn1.fit(X_train_scaled, Y_train)\n",
        "\"\"\"\n",
        "model_1.compile(optimizer='adam', loss='binary_crossentropy', metrics=['accuracy'])\n",
        "history_1 = model_1.fit(X_train_scaled, Y_train, epochs=2, batch_size=64, validation_data=(X_test_scaled, Y_test))\n"
      ],
      "metadata": {
        "id": "z0S31Ig7AWC1",
        "colab": {
          "base_uri": "https://localhost:8080/"
        },
        "outputId": "5ea623e2-a041-4d31-b44d-c14ca290ec68"
      },
      "execution_count": null,
      "outputs": [
        {
          "output_type": "stream",
          "name": "stdout",
          "text": [
            "Epoch 1/2\n",
            "12/12 [==============================] - 1s 25ms/step - loss: 0.7013 - accuracy: 0.5000 - val_loss: 0.6573 - val_accuracy: 0.6480\n",
            "Epoch 2/2\n",
            "12/12 [==============================] - 0s 6ms/step - loss: 0.6294 - accuracy: 0.6896 - val_loss: 0.6054 - val_accuracy: 0.7095\n"
          ]
        }
      ]
    },
    {
      "cell_type": "markdown",
      "source": [
        "### Neural Network 2"
      ],
      "metadata": {
        "id": "45LmGpx8AGxW"
      }
    },
    {
      "cell_type": "code",
      "source": [
        "X_train = train_set.drop('Survived', axis=1)\n",
        "Y_train = train_set['Survived']\n",
        "\n",
        "X_test = test_set.drop('Survived', axis=1)\n",
        "Y_test = test_set['Survived']\n",
        "\n",
        "scaler = StandardScaler()\n",
        "X_train_scaled = scaler.fit_transform(X_train.select_dtypes(include=['int64', 'float64']))\n",
        "X_test_scaled = scaler.transform(X_test.select_dtypes(include=['int64', 'float64']))\n",
        "#nn2 = MLPClassifier(random_state=42)\n",
        "model_2 = Sequential()\n",
        "model_2.add(Dense(128, input_dim=X_train_scaled.shape[1], activation='sigmoid'))\n",
        "model_2.add(Dense(64, activation='sigmoid'))\n",
        "model_2.add(Dense(32, activation='relu'))\n",
        "model_2.add(Dense(1, activation='sigmoid'))"
      ],
      "metadata": {
        "id": "uhSGwRNpAMYk"
      },
      "execution_count": null,
      "outputs": []
    },
    {
      "cell_type": "markdown",
      "source": [
        "#### Optimize number of epochs and batch size for NN2\n",
        "\n",
        "(Try different values for the epochs and batch size parameters and choose the optimal ones)\n",
        "\n",
        "Hint: You can use exhaustive search over specified parameter values for an estimator.\n",
        "\n",
        "https://scikit-learn.org/stable/modules/generated/sklearn.model_selection.GridSearchCV.html\n",
        "\n",
        "You will need a wrapper class for your neural network models\n",
        "\n",
        "https://adriangb.com/scikeras/stable/generated/scikeras.wrappers.KerasClassifier.html"
      ],
      "metadata": {
        "id": "RyX5UIrE_6K7"
      }
    },
    {
      "cell_type": "code",
      "source": [
        "\"\"\"param_grid_nn2 = {\n",
        "    'hidden_layer_sizes': [(50,), (50, 25), (100, 50, 25)],\n",
        "    'max_iter': [500, 1000, 1500],\n",
        "    'batch_size': [16, 32, 64],\n",
        "    'epochs': [10, 15, 25],\n",
        "}\n",
        "grid_search_nn2 = GridSearchCV(nn2, param_grid_nn2, cv=5, scoring='accuracy')\n",
        "grid_search_nn2.fit(X_train_scaled, Y_train)\"\"\"\n",
        "model_2.compile(optimizer='adam', loss='binary_crossentropy', metrics=['accuracy'])\n",
        "history_2 = model_2.fit(X_train_scaled, Y_train, epochs=3, batch_size=128, validation_data=(X_test_scaled, Y_test))\n"
      ],
      "metadata": {
        "id": "1gfrsRE9ANTX",
        "colab": {
          "base_uri": "https://localhost:8080/"
        },
        "outputId": "394ae2a8-8ae3-4aa6-8794-f86a290b199d"
      },
      "execution_count": null,
      "outputs": [
        {
          "output_type": "stream",
          "name": "stdout",
          "text": [
            "Epoch 1/3\n",
            "6/6 [==============================] - 2s 69ms/step - loss: 0.6584 - accuracy: 0.6236 - val_loss: 0.6728 - val_accuracy: 0.5866\n",
            "Epoch 2/3\n",
            "6/6 [==============================] - 0s 14ms/step - loss: 0.6531 - accuracy: 0.6236 - val_loss: 0.6637 - val_accuracy: 0.5866\n",
            "Epoch 3/3\n",
            "6/6 [==============================] - 0s 17ms/step - loss: 0.6477 - accuracy: 0.6236 - val_loss: 0.6595 - val_accuracy: 0.5866\n"
          ]
        }
      ]
    },
    {
      "cell_type": "markdown",
      "source": [
        "### Neural Network 3"
      ],
      "metadata": {
        "id": "_WoT8xgaAI5t"
      }
    },
    {
      "cell_type": "code",
      "source": [
        "X_train = train_set.drop('Survived', axis=1)\n",
        "Y_train = train_set['Survived']\n",
        "\n",
        "X_test = test_set.drop('Survived', axis=1)\n",
        "Y_test = test_set['Survived']\n",
        "\n",
        "scaler = StandardScaler()\n",
        "X_train_scaled = scaler.fit_transform(X_train.select_dtypes(include=['int64', 'float64']))\n",
        "X_test_scaled = scaler.transform(X_test.select_dtypes(include=['int64', 'float64']))\n",
        "#nn3 = MLPClassifier(random_state=42)\n",
        "model_3 = Sequential()\n",
        "model_3.add(Dense(256, input_dim=X_train_scaled.shape[1], activation='relu'))\n",
        "model_3.add(Dense(128, activation='sigmoid'))\n",
        "model_3.add(Dense(64, activation='relu'))\n",
        "model_3.add(Dense(32, activation='sigmoid'))\n",
        "model_3.add(Dense(1, activation='sigmoid'))\n"
      ],
      "metadata": {
        "id": "KT7vVX6NAOIJ"
      },
      "execution_count": null,
      "outputs": []
    },
    {
      "cell_type": "markdown",
      "source": [
        "#### Optimize number of epochs and batch size for NN3\n",
        "\n",
        "(Try different values for the epochs and batch size parameters and choose the optimal ones)\n",
        "\n",
        "Hint: You can use exhaustive search over specified parameter values for an estimator.\n",
        "\n",
        "https://scikit-learn.org/stable/modules/generated/sklearn.model_selection.GridSearchCV.html\n",
        "\n",
        "You will need a wrapper class for your neural network models\n",
        "\n",
        "https://adriangb.com/scikeras/stable/generated/scikeras.wrappers.KerasClassifier.html\n"
      ],
      "metadata": {
        "id": "OigHuYFFACU3"
      }
    },
    {
      "cell_type": "code",
      "source": [
        "\"\"\"param_grid_nn3 = {\n",
        "    'hidden_layer_sizes': [(50,), (50, 25), (100, 50, 25)],\n",
        "    'max_iter': [500, 1000, 1500],\n",
        "    'batch_size': [64, 128, 256],\n",
        "    'epochs': [5, 8, 12],\n",
        "}\n",
        "\n",
        "grid_search_nn3 = GridSearchCV(nn3, param_grid_nn3, cv=5, scoring='accuracy')\n",
        "grid_search_nn3.fit(X_train_scaled, Y_train)\"\"\"\n",
        "model_3.compile(optimizer='adam', loss='binary_crossentropy', metrics=['accuracy'])\n",
        "history_3 = model_3.fit(X_train_scaled, Y_train, epochs=5, batch_size=256, validation_data=(X_test_scaled, Y_test))\n"
      ],
      "metadata": {
        "id": "-mx9_SyQARi6",
        "colab": {
          "base_uri": "https://localhost:8080/"
        },
        "outputId": "5d0735bf-f398-454d-91de-93c95bb9455b"
      },
      "execution_count": null,
      "outputs": [
        {
          "output_type": "stream",
          "name": "stdout",
          "text": [
            "Epoch 1/5\n",
            "3/3 [==============================] - 1s 112ms/step - loss: 0.6717 - accuracy: 0.6236 - val_loss: 0.6744 - val_accuracy: 0.5866\n",
            "Epoch 2/5\n",
            "3/3 [==============================] - 0s 20ms/step - loss: 0.6563 - accuracy: 0.6236 - val_loss: 0.6591 - val_accuracy: 0.5866\n",
            "Epoch 3/5\n",
            "3/3 [==============================] - 0s 21ms/step - loss: 0.6492 - accuracy: 0.6250 - val_loss: 0.6500 - val_accuracy: 0.5866\n",
            "Epoch 4/5\n",
            "3/3 [==============================] - 0s 23ms/step - loss: 0.6386 - accuracy: 0.6292 - val_loss: 0.6387 - val_accuracy: 0.5922\n",
            "Epoch 5/5\n",
            "3/3 [==============================] - 0s 21ms/step - loss: 0.6249 - accuracy: 0.6292 - val_loss: 0.6274 - val_accuracy: 0.5978\n"
          ]
        }
      ]
    },
    {
      "cell_type": "markdown",
      "source": [
        "### Evaluate the three NNs"
      ],
      "metadata": {
        "id": "2Mm6GSz1DbQX"
      }
    },
    {
      "cell_type": "code",
      "source": [
        "\"\"\"\n",
        "print(\"Best Hyperparameters for NN1:\", grid_search_nn1.best_params_)\n",
        "print(\"Best Hyperparameters for NN2:\", grid_search_nn2.best_params_)\n",
        "print(\"Best Hyperparameters for NN3:\", grid_search_nn3.best_params_)\n",
        "\n",
        "best_nn1 = grid_search_nn1.best_estimator_\n",
        "best_nn2 = grid_search_nn2.best_estimator_\n",
        "best_nn3 = grid_search_nn3.best_estimator_\n",
        "\n",
        "y_pred_nn1 = best_nn1.predict(X_test_scaled)\n",
        "y_pred_nn2 = best_nn2.predict(X_test_scaled)\n",
        "y_pred_nn3 = best_nn3.predict(X_test_scaled)\n",
        "\n",
        "accuracy_nn1 = accuracy_score(Y_test, y_pred_nn1)\n",
        "accuracy_nn2 = accuracy_score(Y_test, y_pred_nn2)\n",
        "accuracy_nn3 = accuracy_score(Y_test, y_pred_nn3)\n",
        "\n",
        "print(f\"Accuracy for NN1: {accuracy_nn1}\")\n",
        "print(f\"Accuracy for NN2: {accuracy_nn2}\")\n",
        "print(f\"Accuracy for NN3: {accuracy_nn3}\")\"\"\"\n",
        "eval_1 = model_1.evaluate(X_test_scaled, Y_test)\n",
        "eval_2 = model_2.evaluate(X_test_scaled, Y_test)\n",
        "eval_3 = model_3.evaluate(X_test_scaled, Y_test)\n",
        "\n"
      ],
      "metadata": {
        "id": "9IiqKGYQDh64",
        "colab": {
          "base_uri": "https://localhost:8080/"
        },
        "outputId": "bc2f6f96-5160-41b9-ab10-16840fe8ce4b"
      },
      "execution_count": null,
      "outputs": [
        {
          "output_type": "stream",
          "name": "stdout",
          "text": [
            "6/6 [==============================] - 0s 3ms/step - loss: 0.6054 - accuracy: 0.7095\n",
            "6/6 [==============================] - 0s 4ms/step - loss: 0.6595 - accuracy: 0.5866\n",
            "6/6 [==============================] - 0s 3ms/step - loss: 0.6274 - accuracy: 0.5978\n"
          ]
        }
      ]
    },
    {
      "cell_type": "markdown",
      "source": [
        "## Results analysis"
      ],
      "metadata": {
        "id": "933twIleDi7d"
      }
    },
    {
      "cell_type": "code",
      "source": [
        "\n",
        "\"\"\"from sklearn.metrics import confusion_matrix, classification_report, roc_curve, auc\n",
        "import matplotlib.pyplot as plt\n",
        "\n",
        "cm_nn1 = confusion_matrix(y_test, y_pred_nn1)\n",
        "cm_nn2 = confusion_matrix(y_test, y_pred_nn2)\n",
        "cm_nn3 = confusion_matrix(y_test, y_pred_nn3)\n",
        "\n",
        "report_nn1 = classification_report(y_test, y_pred_nn1)\n",
        "report_nn2 = classification_report(y_test, y_pred_nn2)\n",
        "report_nn3 = classification_report(y_test, y_pred_nn3)\n",
        "\n",
        "fpr_nn1, tpr_nn1, _ = roc_curve(y_test, best_nn1.predict_proba(X_test_scaled)[:, 1])\n",
        "fpr_nn2, tpr_nn2, _ = roc_curve(y_test, best_nn2.predict_proba(X_test_scaled)[:, 1])\n",
        "fpr_nn3, tpr_nn3, _ = roc_curve(y_test, best_nn3.predict_proba(X_test_scaled)[:, 1])\n",
        "\n",
        "roc_auc_nn1 = auc(fpr_nn1, tpr_nn1)\n",
        "roc_auc_nn2 = auc(fpr_nn2, tpr_nn2)\n",
        "roc_auc_nn3 = auc(fpr_nn3, tpr_nn3)\n",
        "\n",
        "print(\"Accuracy for NN1:\", accuracy_nn1)\n",
        "print(\"Confusion Matrix for NN1:\")\n",
        "print(cm_nn1)\n",
        "print(\"Classification Report for NN1:\")\n",
        "print(report_nn1)\n",
        "\n",
        "plt.figure(figsize=(10, 6))\n",
        "plt.plot(fpr_nn1, tpr_nn1, label=f'NN1 (AUC = {roc_auc_nn1:.2f})')\n",
        "plt.plot(fpr_nn2, tpr_nn2, label=f'NN2 (AUC = {roc_auc_nn2:.2f})')\n",
        "plt.plot(fpr_nn3, tpr_nn3, label=f'NN3 (AUC = {roc_auc_nn3:.2f})')\n",
        "plt.plot([0, 1], [0, 1], 'k--', label='Random')\n",
        "plt.xlabel('False Positive Rate')\n",
        "plt.ylabel('True Positive Rate')\n",
        "plt.title('ROC Curve')\n",
        "plt.legend()\n",
        "plt.show()\"\"\"\n",
        "print(\"Neural Network 1:\")\n",
        "print(f\"Test Loss: {eval_1[0]}, Test Accuracy: {eval_1[1]}\")\n",
        "\n",
        "print(\"Neural Network 2:\")\n",
        "print(f\"Test Loss: {eval_2[0]}, Test Accuracy: {eval_2[1]}\")\n",
        "\n",
        "print(\"Neural Network 3:\")\n",
        "print(f\"Test Loss: {eval_3[0]}, Test Accuracy: {eval_3[1]}\")"
      ],
      "metadata": {
        "id": "-CR4c2R6DjWP",
        "colab": {
          "base_uri": "https://localhost:8080/"
        },
        "outputId": "42ccf27f-3570-4cea-884c-490f96019ad7"
      },
      "execution_count": null,
      "outputs": [
        {
          "output_type": "stream",
          "name": "stdout",
          "text": [
            "Neural Network 1:\n",
            "Test Loss: 0.6054165363311768, Test Accuracy: 0.7094972133636475\n",
            "Neural Network 2:\n",
            "Test Loss: 0.6595090627670288, Test Accuracy: 0.5865921974182129\n",
            "Neural Network 3:\n",
            "Test Loss: 0.6273787021636963, Test Accuracy: 0.5977653861045837\n"
          ]
        }
      ]
    },
    {
      "cell_type": "markdown",
      "source": [
        "##**Bonus task** (+2 points)\n",
        "\n",
        "The idea behind the VotingClassifier is to combine conceptually different machine learning classifiers and use a majority vote or the average predicted probabilities (soft vote) to predict the class labels. Such a classifier can be useful for a set of equally well performing models in order to balance out their individual weaknesses\n",
        "\n",
        "https://scikit-learn.org/stable/modules/ensemble.html#voting-classifier\n",
        "\n",
        "**Your task will be to create Majority/Hard Voting with the three previously created NN.**\n",
        "\n",
        "In majority voting, the predicted class label for a particular sample is the class label that represents the majority (mode) of the class labels predicted by each individual classifier.\n",
        "\n",
        "Is this model better than the models before?\n",
        "\n",
        "Hint: You will need a wrapper class for your neural network models\n",
        " https://adriangb.com/scikeras/stable/generated/scikeras.wrappers.KerasClassifier.html\n"
      ],
      "metadata": {
        "id": "uvV52c2fAXv4"
      }
    },
    {
      "cell_type": "code",
      "source": [],
      "metadata": {
        "id": "ut2R-5QR8k6e"
      },
      "execution_count": null,
      "outputs": []
    }
  ]
}